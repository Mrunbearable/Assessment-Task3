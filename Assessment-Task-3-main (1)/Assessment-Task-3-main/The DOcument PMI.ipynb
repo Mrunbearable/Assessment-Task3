{
 "cells": [
  {
   "attachments": {},
   "cell_type": "markdown",
   "metadata": {},
   "source": [
    "# PMI"
   ]
  },
  {
   "attachments": {},
   "cell_type": "markdown",
   "metadata": {},
   "source": [
    "## 1. Kirby "
   ]
  },
  {
   "attachments": {},
   "cell_type": "markdown",
   "metadata": {},
   "source": [
    "Positive: The Game is fun and Engaging, Draws attention to an audience, mainly directed at gamers, Has an intresting storyline"
   ]
  },
  {
   "attachments": {},
   "cell_type": "markdown",
   "metadata": {},
   "source": [
    "Negative: Can be very addictive, Can be very confusing to play"
   ]
  },
  {
   "attachments": {},
   "cell_type": "markdown",
   "metadata": {},
   "source": [
    "Implementation/Interesting: Lots of Secrets, Extra/Bonus level. Fun Boss and Minboss fights, Wide variety of creatures, character selection"
   ]
  },
  {
   "attachments": {},
   "cell_type": "markdown",
   "metadata": {},
   "source": [
    "## 2. Minecraft"
   ]
  },
  {
   "attachments": {},
   "cell_type": "markdown",
   "metadata": {},
   "source": [
    "Positive: Very fun and engaging, Different types of mobs and blocks, Up to your creativity, Different gamemodes"
   ]
  },
  {
   "attachments": {},
   "cell_type": "markdown",
   "metadata": {},
   "source": [
    "Negative: Confusing for new players, addiction problem, Need to pay for game"
   ]
  },
  {
   "attachments": {},
   "cell_type": "markdown",
   "metadata": {},
   "source": [
    "Implementation/Interesting: Different biomes/dimension. Out of the world Boss fights. Automated machines"
   ]
  },
  {
   "attachments": {},
   "cell_type": "markdown",
   "metadata": {},
   "source": [
    "## 3. Solitaire"
   ]
  },
  {
   "attachments": {},
   "cell_type": "markdown",
   "metadata": {},
   "source": [
    "Positive: a classic game great for the elder generation, singleplayer game, Interesting and fun game, skill/IQ based game"
   ]
  },
  {
   "attachments": {},
   "cell_type": "markdown",
   "metadata": {},
   "source": [
    "Negative: can be confusing for the newer generation, attention span is shorter"
   ]
  },
  {
   "attachments": {},
   "cell_type": "markdown",
   "metadata": {},
   "source": [
    "Implementation/Interesting: card game, different types of gamemodes (pyramid, Klondike)"
   ]
  },
  {
   "attachments": {},
   "cell_type": "markdown",
   "metadata": {},
   "source": [
    "| Existing Ideas |Image of Game| Positive | Negative | Implementation | \n",
    "| --- | --- | --- | --- | --- |\n",
    "| 1. Kirby | --- |The Game is fun and Engaging, Draws attention to an audience, mainly directed at gamers, Has an intresting storyline| Can be very addictive, Can be very confusing to play| Lots of Secrets, Extra/Bonus level. Fun Boss and Minboss fights, Wide variety of creatures, character selection|\n",
    "| 2.Minecraft | --- | Very fun and engaging, Different types of mobs and blocks, Up to your creativity, Different gamemodes |Confusing for new players, addiction problem, Need to pay for game| Different biomes/dimension. Out of the world Boss fights. Automated machines |\n",
    "| 3.Solitaire| --- | a classic game great for the elder generation, singleplayer game, Interesting and fun game, skill/IQ based game| can be confusing for the newer generation, attention span is shorter | card game, different types of gamemodes (pyramid, Klondike) |"
   ]
  }
 ],
 "metadata": {
  "language_info": {
   "name": "python"
  },
  "orig_nbformat": 4
 },
 "nbformat": 4,
 "nbformat_minor": 2
}
